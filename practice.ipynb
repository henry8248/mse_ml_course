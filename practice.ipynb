{
 "cells": [
  {
   "cell_type": "markdown",
   "id": "283cea00-14ae-4b28-a024-d6a50740cfdd",
   "metadata": {},
   "source": [
    "### Calculate MAE, MSE, CROSS-ENTROPY"
   ]
  },
  {
   "cell_type": "code",
   "execution_count": 1,
   "id": "314c6b20-811a-40ce-8321-5fe58331fe86",
   "metadata": {},
   "outputs": [],
   "source": [
    "import pandas as pd\n",
    "import numpy as np"
   ]
  },
  {
   "cell_type": "code",
   "execution_count": 3,
   "id": "a1bccb2f-3a58-4e05-b3d0-296077e05861",
   "metadata": {},
   "outputs": [],
   "source": [
    "##model1 \n",
    "dog_pre = [0.4, 0.3, 0.5, 0.6]\n",
    "cat_pre = [0.3, 0.4, 0.2, 0.2]\n",
    "other_pre = [0.3, 0.3, 0.3, 0.2]\n",
    "\n",
    "dog_ans = [1, 0, 1, 0]\n",
    "cat_ans = [0, 1, 0, 0]\n",
    "other_ans = [0, 0, 0, 1]"
   ]
  },
  {
   "cell_type": "code",
   "execution_count": 5,
   "id": "be501872-c2f4-4615-875c-e24300b35b00",
   "metadata": {},
   "outputs": [
    {
     "data": {
      "text/html": [
       "<div>\n",
       "<style scoped>\n",
       "    .dataframe tbody tr th:only-of-type {\n",
       "        vertical-align: middle;\n",
       "    }\n",
       "\n",
       "    .dataframe tbody tr th {\n",
       "        vertical-align: top;\n",
       "    }\n",
       "\n",
       "    .dataframe thead th {\n",
       "        text-align: right;\n",
       "    }\n",
       "</style>\n",
       "<table border=\"1\" class=\"dataframe\">\n",
       "  <thead>\n",
       "    <tr style=\"text-align: right;\">\n",
       "      <th></th>\n",
       "      <th>Dog</th>\n",
       "      <th>Cat</th>\n",
       "      <th>Other</th>\n",
       "      <th>Dog_ans</th>\n",
       "      <th>Cat_ans</th>\n",
       "      <th>Other_ans</th>\n",
       "    </tr>\n",
       "  </thead>\n",
       "  <tbody>\n",
       "    <tr>\n",
       "      <th>0</th>\n",
       "      <td>0.4</td>\n",
       "      <td>0.3</td>\n",
       "      <td>0.3</td>\n",
       "      <td>1</td>\n",
       "      <td>0</td>\n",
       "      <td>0</td>\n",
       "    </tr>\n",
       "    <tr>\n",
       "      <th>1</th>\n",
       "      <td>0.3</td>\n",
       "      <td>0.4</td>\n",
       "      <td>0.3</td>\n",
       "      <td>0</td>\n",
       "      <td>1</td>\n",
       "      <td>0</td>\n",
       "    </tr>\n",
       "    <tr>\n",
       "      <th>2</th>\n",
       "      <td>0.5</td>\n",
       "      <td>0.2</td>\n",
       "      <td>0.3</td>\n",
       "      <td>1</td>\n",
       "      <td>0</td>\n",
       "      <td>0</td>\n",
       "    </tr>\n",
       "    <tr>\n",
       "      <th>3</th>\n",
       "      <td>0.6</td>\n",
       "      <td>0.2</td>\n",
       "      <td>0.2</td>\n",
       "      <td>0</td>\n",
       "      <td>0</td>\n",
       "      <td>1</td>\n",
       "    </tr>\n",
       "  </tbody>\n",
       "</table>\n",
       "</div>"
      ],
      "text/plain": [
       "   Dog  Cat  Other  Dog_ans  Cat_ans  Other_ans\n",
       "0  0.4  0.3    0.3        1        0          0\n",
       "1  0.3  0.4    0.3        0        1          0\n",
       "2  0.5  0.2    0.3        1        0          0\n",
       "3  0.6  0.2    0.2        0        0          1"
      ]
     },
     "execution_count": 5,
     "metadata": {},
     "output_type": "execute_result"
    }
   ],
   "source": [
    "model1 = pd.DataFrame({\"Dog\": dog_pre, \"Cat\":cat_pre, \"Other\":other_pre, \"Dog_ans\":dog_ans, \"Cat_ans\":cat_ans, \"Other_ans\":other_ans})\n",
    "model1"
   ]
  },
  {
   "cell_type": "code",
   "execution_count": 7,
   "id": "d7ccf07f-c9d5-49aa-8dc8-fc55e18019f9",
   "metadata": {},
   "outputs": [],
   "source": [
    "##model2\n",
    "dog_pre2 = [0.4, 0.3, 0.5, 0.6]\n",
    "cat_pre2 = [0.3, 0.4, 0.2, 0.2]\n",
    "other_pre2 = [0.3, 0.3, 0.3, 0.2]\n",
    "\n",
    "dog_ans2 = [1, 0, 1, 0]\n",
    "cat_ans2 = [0, 1, 0, 0]\n",
    "other_ans2 = [0, 0, 0, 1]"
   ]
  },
  {
   "cell_type": "code",
   "execution_count": 8,
   "id": "62423cc9-1110-4341-aa8b-332979c007e9",
   "metadata": {},
   "outputs": [
    {
     "data": {
      "text/html": [
       "<div>\n",
       "<style scoped>\n",
       "    .dataframe tbody tr th:only-of-type {\n",
       "        vertical-align: middle;\n",
       "    }\n",
       "\n",
       "    .dataframe tbody tr th {\n",
       "        vertical-align: top;\n",
       "    }\n",
       "\n",
       "    .dataframe thead th {\n",
       "        text-align: right;\n",
       "    }\n",
       "</style>\n",
       "<table border=\"1\" class=\"dataframe\">\n",
       "  <thead>\n",
       "    <tr style=\"text-align: right;\">\n",
       "      <th></th>\n",
       "      <th>Dog</th>\n",
       "      <th>Cat</th>\n",
       "      <th>Other</th>\n",
       "      <th>Dog_ans</th>\n",
       "      <th>Cat_ans</th>\n",
       "      <th>Other_ans</th>\n",
       "    </tr>\n",
       "  </thead>\n",
       "  <tbody>\n",
       "    <tr>\n",
       "      <th>0</th>\n",
       "      <td>0.4</td>\n",
       "      <td>0.3</td>\n",
       "      <td>0.3</td>\n",
       "      <td>1</td>\n",
       "      <td>0</td>\n",
       "      <td>0</td>\n",
       "    </tr>\n",
       "    <tr>\n",
       "      <th>1</th>\n",
       "      <td>0.3</td>\n",
       "      <td>0.4</td>\n",
       "      <td>0.3</td>\n",
       "      <td>0</td>\n",
       "      <td>1</td>\n",
       "      <td>0</td>\n",
       "    </tr>\n",
       "    <tr>\n",
       "      <th>2</th>\n",
       "      <td>0.5</td>\n",
       "      <td>0.2</td>\n",
       "      <td>0.3</td>\n",
       "      <td>1</td>\n",
       "      <td>0</td>\n",
       "      <td>0</td>\n",
       "    </tr>\n",
       "    <tr>\n",
       "      <th>3</th>\n",
       "      <td>0.6</td>\n",
       "      <td>0.2</td>\n",
       "      <td>0.2</td>\n",
       "      <td>0</td>\n",
       "      <td>0</td>\n",
       "      <td>1</td>\n",
       "    </tr>\n",
       "  </tbody>\n",
       "</table>\n",
       "</div>"
      ],
      "text/plain": [
       "   Dog  Cat  Other  Dog_ans  Cat_ans  Other_ans\n",
       "0  0.4  0.3    0.3        1        0          0\n",
       "1  0.3  0.4    0.3        0        1          0\n",
       "2  0.5  0.2    0.3        1        0          0\n",
       "3  0.6  0.2    0.2        0        0          1"
      ]
     },
     "execution_count": 8,
     "metadata": {},
     "output_type": "execute_result"
    }
   ],
   "source": [
    "model2 = pd.DataFrame({\"Dog\": dog_pre2, \"Cat\":cat_pre2, \"Other\":other_pre2, \"Dog_ans\":dog_ans2, \"Cat_ans\":cat_ans2, \"Other_ans\":other_ans2})\n",
    "model2"
   ]
  },
  {
   "cell_type": "code",
   "execution_count": 32,
   "id": "77206597-94f9-4959-89a8-7aa76dfb331d",
   "metadata": {},
   "outputs": [],
   "source": [
    "def MAE(arr1, arr2):\n",
    "    return np.absolute(arr1 - arr2).mean()\n",
    "#     ##INPUT: TWO DATAFRAME\n",
    "#     ##OUTPUT: ERROR VALUE\n",
    "\n",
    "    "
   ]
  },
  {
   "cell_type": "code",
   "execution_count": 17,
   "id": "bf9fdf6d-dc54-4363-9945-9ed7819d2a65",
   "metadata": {},
   "outputs": [
    {
     "data": {
      "text/html": [
       "<div>\n",
       "<style scoped>\n",
       "    .dataframe tbody tr th:only-of-type {\n",
       "        vertical-align: middle;\n",
       "    }\n",
       "\n",
       "    .dataframe tbody tr th {\n",
       "        vertical-align: top;\n",
       "    }\n",
       "\n",
       "    .dataframe thead th {\n",
       "        text-align: right;\n",
       "    }\n",
       "</style>\n",
       "<table border=\"1\" class=\"dataframe\">\n",
       "  <thead>\n",
       "    <tr style=\"text-align: right;\">\n",
       "      <th></th>\n",
       "      <th>Dog</th>\n",
       "      <th>Cat</th>\n",
       "      <th>Other</th>\n",
       "    </tr>\n",
       "  </thead>\n",
       "  <tbody>\n",
       "    <tr>\n",
       "      <th>0</th>\n",
       "      <td>0.4</td>\n",
       "      <td>0.3</td>\n",
       "      <td>0.3</td>\n",
       "    </tr>\n",
       "    <tr>\n",
       "      <th>1</th>\n",
       "      <td>0.3</td>\n",
       "      <td>0.4</td>\n",
       "      <td>0.3</td>\n",
       "    </tr>\n",
       "    <tr>\n",
       "      <th>2</th>\n",
       "      <td>0.5</td>\n",
       "      <td>0.2</td>\n",
       "      <td>0.3</td>\n",
       "    </tr>\n",
       "    <tr>\n",
       "      <th>3</th>\n",
       "      <td>0.6</td>\n",
       "      <td>0.2</td>\n",
       "      <td>0.2</td>\n",
       "    </tr>\n",
       "  </tbody>\n",
       "</table>\n",
       "</div>"
      ],
      "text/plain": [
       "   Dog  Cat  Other\n",
       "0  0.4  0.3    0.3\n",
       "1  0.3  0.4    0.3\n",
       "2  0.5  0.2    0.3\n",
       "3  0.6  0.2    0.2"
      ]
     },
     "execution_count": 17,
     "metadata": {},
     "output_type": "execute_result"
    }
   ],
   "source": [
    "pred = model1.iloc[:, :3]\n",
    "pred"
   ]
  },
  {
   "cell_type": "code",
   "execution_count": 18,
   "id": "6688c199-d42e-4f38-b024-353fa4d2984a",
   "metadata": {},
   "outputs": [
    {
     "data": {
      "text/html": [
       "<div>\n",
       "<style scoped>\n",
       "    .dataframe tbody tr th:only-of-type {\n",
       "        vertical-align: middle;\n",
       "    }\n",
       "\n",
       "    .dataframe tbody tr th {\n",
       "        vertical-align: top;\n",
       "    }\n",
       "\n",
       "    .dataframe thead th {\n",
       "        text-align: right;\n",
       "    }\n",
       "</style>\n",
       "<table border=\"1\" class=\"dataframe\">\n",
       "  <thead>\n",
       "    <tr style=\"text-align: right;\">\n",
       "      <th></th>\n",
       "      <th>Dog_ans</th>\n",
       "      <th>Cat_ans</th>\n",
       "      <th>Other_ans</th>\n",
       "    </tr>\n",
       "  </thead>\n",
       "  <tbody>\n",
       "    <tr>\n",
       "      <th>0</th>\n",
       "      <td>1</td>\n",
       "      <td>0</td>\n",
       "      <td>0</td>\n",
       "    </tr>\n",
       "    <tr>\n",
       "      <th>1</th>\n",
       "      <td>0</td>\n",
       "      <td>1</td>\n",
       "      <td>0</td>\n",
       "    </tr>\n",
       "    <tr>\n",
       "      <th>2</th>\n",
       "      <td>1</td>\n",
       "      <td>0</td>\n",
       "      <td>0</td>\n",
       "    </tr>\n",
       "    <tr>\n",
       "      <th>3</th>\n",
       "      <td>0</td>\n",
       "      <td>0</td>\n",
       "      <td>1</td>\n",
       "    </tr>\n",
       "  </tbody>\n",
       "</table>\n",
       "</div>"
      ],
      "text/plain": [
       "   Dog_ans  Cat_ans  Other_ans\n",
       "0        1        0          0\n",
       "1        0        1          0\n",
       "2        1        0          0\n",
       "3        0        0          1"
      ]
     },
     "execution_count": 18,
     "metadata": {},
     "output_type": "execute_result"
    }
   ],
   "source": [
    "ans = model1.iloc[:, 3:]\n",
    "ans"
   ]
  },
  {
   "cell_type": "code",
   "execution_count": 33,
   "id": "fbb29c64-c55f-4c65-b30a-b727ff3c3035",
   "metadata": {},
   "outputs": [
    {
     "name": "stdout",
     "output_type": "stream",
     "text": [
      "0.4166666666666666\n"
     ]
    }
   ],
   "source": [
    "print(MAE(pred.values, ans.values))"
   ]
  },
  {
   "cell_type": "code",
   "execution_count": 34,
   "id": "1386e7e9-7316-40bc-bcbf-be72b43950fb",
   "metadata": {},
   "outputs": [],
   "source": [
    "def MSE(arr1, arr2):\n",
    "    return np.mean(np.absolute(arr1 - arr2)**2)"
   ]
  },
  {
   "cell_type": "code",
   "execution_count": 35,
   "id": "759bd485-f5e9-48d1-94ee-7ee4b49ce25a",
   "metadata": {},
   "outputs": [
    {
     "name": "stdout",
     "output_type": "stream",
     "text": [
      "0.20833333333333337\n"
     ]
    }
   ],
   "source": [
    "print(MSE(pred.values, ans.values))"
   ]
  },
  {
   "cell_type": "code",
   "execution_count": 51,
   "id": "118b5246-fd5a-462e-81ab-2889ea4bc3bc",
   "metadata": {},
   "outputs": [
    {
     "name": "stdout",
     "output_type": "stream",
     "text": [
      "   Dog_ans  Cat_ans  Other_ans\n",
      "0      1.0      NaN        NaN\n",
      "1      NaN      1.0        NaN\n",
      "2      1.0      NaN        NaN\n",
      "3      NaN      NaN        1.0\n"
     ]
    },
    {
     "data": {
      "text/html": [
       "<div>\n",
       "<style scoped>\n",
       "    .dataframe tbody tr th:only-of-type {\n",
       "        vertical-align: middle;\n",
       "    }\n",
       "\n",
       "    .dataframe tbody tr th {\n",
       "        vertical-align: top;\n",
       "    }\n",
       "\n",
       "    .dataframe thead th {\n",
       "        text-align: right;\n",
       "    }\n",
       "</style>\n",
       "<table border=\"1\" class=\"dataframe\">\n",
       "  <thead>\n",
       "    <tr style=\"text-align: right;\">\n",
       "      <th></th>\n",
       "      <th>Dog_ans</th>\n",
       "      <th>Cat_ans</th>\n",
       "      <th>Other_ans</th>\n",
       "    </tr>\n",
       "  </thead>\n",
       "  <tbody>\n",
       "    <tr>\n",
       "      <th>0</th>\n",
       "      <td>NaN</td>\n",
       "      <td>NaN</td>\n",
       "      <td>NaN</td>\n",
       "    </tr>\n",
       "    <tr>\n",
       "      <th>1</th>\n",
       "      <td>NaN</td>\n",
       "      <td>NaN</td>\n",
       "      <td>NaN</td>\n",
       "    </tr>\n",
       "    <tr>\n",
       "      <th>2</th>\n",
       "      <td>NaN</td>\n",
       "      <td>NaN</td>\n",
       "      <td>NaN</td>\n",
       "    </tr>\n",
       "    <tr>\n",
       "      <th>3</th>\n",
       "      <td>NaN</td>\n",
       "      <td>NaN</td>\n",
       "      <td>NaN</td>\n",
       "    </tr>\n",
       "  </tbody>\n",
       "</table>\n",
       "</div>"
      ],
      "text/plain": [
       "   Dog_ans  Cat_ans  Other_ans\n",
       "0      NaN      NaN        NaN\n",
       "1      NaN      NaN        NaN\n",
       "2      NaN      NaN        NaN\n",
       "3      NaN      NaN        NaN"
      ]
     },
     "execution_count": 51,
     "metadata": {},
     "output_type": "execute_result"
    }
   ],
   "source": [
    "mask = ans[ans != 0]\n",
    "print(ans)\n",
    "ans = mask[mask==np.NAN]\n",
    "ans"
   ]
  },
  {
   "cell_type": "code",
   "execution_count": 40,
   "id": "5b2cc096-6f4f-4235-9a0a-c3927f24d0fc",
   "metadata": {},
   "outputs": [],
   "source": [
    "def CROSS_ENTROPY(arr1, arr2):\n",
    "    return -np.sum(arr1*np.log(arr2[arr2 != 0]))"
   ]
  },
  {
   "cell_type": "code",
   "execution_count": 41,
   "id": "3ac3ec2c-d9ab-4ee0-90ea-79f96ddd40f3",
   "metadata": {},
   "outputs": [
    {
     "name": "stdout",
     "output_type": "stream",
     "text": [
      "inf\n"
     ]
    },
    {
     "name": "stderr",
     "output_type": "stream",
     "text": [
      "C:\\Users\\User\\AppData\\Local\\Temp\\ipykernel_8268\\3548248915.py:2: RuntimeWarning: divide by zero encountered in log\n",
      "  return -np.sum(arr1*np.log([arr2 != 0]))\n"
     ]
    }
   ],
   "source": [
    "print(CROSS_ENTROPY(pred.values, ans.values))"
   ]
  }
 ],
 "metadata": {
  "kernelspec": {
   "display_name": "Python 3 (ipykernel)",
   "language": "python",
   "name": "python3"
  },
  "language_info": {
   "codemirror_mode": {
    "name": "ipython",
    "version": 3
   },
   "file_extension": ".py",
   "mimetype": "text/x-python",
   "name": "python",
   "nbconvert_exporter": "python",
   "pygments_lexer": "ipython3",
   "version": "3.8.18"
  }
 },
 "nbformat": 4,
 "nbformat_minor": 5
}
